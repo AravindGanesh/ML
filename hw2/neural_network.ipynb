{
 "cells": [
  {
   "cell_type": "markdown",
   "metadata": {},
   "source": [
    "# Neural Network"
   ]
  },
  {
   "cell_type": "markdown",
   "metadata": {},
   "source": [
    "Implement the back-propagation algorithm to learn the weights of a perceptron with 2 input nodes, 2 hidden nodes and 1 output node.\n",
    "\n",
    "Train your network to learn the following binary operations:\n",
    "+ XOR \n",
    "+ AND \n",
    "+ OR"
   ]
  },
  {
   "cell_type": "code",
   "execution_count": 19,
   "metadata": {},
   "outputs": [],
   "source": [
    "# imports\n",
    "import numpy as np"
   ]
  },
  {
   "cell_type": "code",
   "execution_count": 23,
   "metadata": {},
   "outputs": [],
   "source": [
    "# prepare training data\n",
    "N = 400 # total number of training samples\n",
    "N1 = 100 # number of traning samples per each input type\n",
    "input_dim = 2   # input dim\n",
    "X = np.random.randint(2, size=(N,2))\n",
    "y_xor = np.logical_xor(x.T[0], x.T[1]).astype(np.int)\n",
    "y_and = np.logical_and(x.T[0], x.T[1]).astype(np.int)\n",
    "y_or  = np.logical_or( x.T[0], x.T[1]).astype(np.int)\n"
   ]
  },
  {
   "cell_type": "markdown",
   "metadata": {},
   "source": [
    "Write stuff here - code documentation and theory and also code comment\n",
    "\n",
    "### TODO:\n",
    "###### DATASET\n",
    "* generate \n",
    "* N value\n",
    "* noise params\n",
    "###### Class NN\n",
    "* optimize wrt biases \n",
    "* train - (loss)\n",
    "* learn rate\n",
    "* save model\n",
    "* get weights\n",
    "* load model\n",
    "* predict - evaluation metrics \n",
    "* "
   ]
  },
  {
   "cell_type": "code",
   "execution_count": 30,
   "metadata": {},
   "outputs": [],
   "source": [
    "class NN(object):\n",
    "    def __init__(self, hidden_dim):\n",
    "        self.learn_rate = 0.05\n",
    "        self.input_dim = 2\n",
    "        self.hidden_dim = 2\n",
    "        self.output_dim = 1\n",
    "        self.A = np.zeros((self.hidden_dim, self.input_dim))  # alphas\n",
    "        self.B = np.zeros(self.input_dim)                     # betas     \n",
    "        self.a0 = np.zeros(hidden_dim) # hidden layer bias\n",
    "        self.b0 = 0 # output layer bias\n",
    "        \n",
    "    def sigmoid(self, t):\n",
    "        return 1/(1  + np.exp(-t))\n",
    "    \n",
    "    def dsigmoid(self, t):\n",
    "        return 1/(np.exp(t) + np.exp(-t) + 2)\n",
    "    \n",
    "    def hidden_layer(self, x):\n",
    "        self.z = self.sigmoid(np.dot(self.A, x) + self.a0) \n",
    "        return self.z\n",
    "    \n",
    "    def forward_pass(self, x):\n",
    "        self.y_hat = self.sigmoid(np.dot(self.B, self.hidden_layer(x)) + b0)\n",
    "        return self.y_hat\n",
    "    \n",
    "    def back_propogate(self, X, Y, Y_hat):\n",
    "        SSE_a, SSE_b = 0 \n",
    "        for i, x in enumerate(X):\n",
    "            z = self.hidden_layer(x)\n",
    "            y_error = Y[i] - Y_hat[i]\n",
    "            y_delta = -2* y_error * self.dsigmoid(np.dot(B, self.hidden_layer(x)) + self.b0)\n",
    "            s = self.dsigmoid(np.dot(self.A,x) + self.a0) * self.B * y_delta \n",
    "            SSE_b += y_delta*z\n",
    "            SSE_a += np.tensordot(s,x, axes=0)\n",
    "        self.A -= self.learn_rate * SSE_a\n",
    "        self.B -= self.learn_rate * SSE_b\n",
    "        \n",
    "    def train(self, _x_train, _y_train, epochs): \n",
    "        epoch = 0\n",
    "        while(epoch < epochs):\n",
    "            _y_hat = np.array([self.forward_pass(_x) for _x in _x_train])\n",
    "            self.back_propogate(_x_train, _y_train, _y_hat)\n",
    "            print('Epoch: ', epoch, 'Loss: ', loss(_y_train - _y_hat))\n",
    "            epoch = epoch + 1\n",
    "\n",
    "    def loss(_y, _yhat):\n",
    "        return np.linalg.norm(_y - _yhat)\n",
    "    \n",
    "#     def load_model(self):\n",
    "#         # something here\n",
    "#     def get_weights(self):\n",
    "#         # some code here\n",
    "#     def load_weights(self):\n",
    "#         # some code here\n",
    "#     def save_model(self):\n",
    "#         # some code here\n",
    "        \n",
    "\n",
    "        "
   ]
  }
 ],
 "metadata": {
  "kernelspec": {
   "display_name": "Python 3",
   "language": "python",
   "name": "python3"
  },
  "language_info": {
   "codemirror_mode": {
    "name": "ipython",
    "version": 3
   },
   "file_extension": ".py",
   "mimetype": "text/x-python",
   "name": "python",
   "nbconvert_exporter": "python",
   "pygments_lexer": "ipython3",
   "version": "3.5.2"
  }
 },
 "nbformat": 4,
 "nbformat_minor": 2
}
