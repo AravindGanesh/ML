{
 "cells": [
  {
   "cell_type": "markdown",
   "metadata": {},
   "source": [
    "# Sparse Autoencoder"
   ]
  },
  {
   "cell_type": "markdown",
   "metadata": {},
   "source": [
    "Implement an autoencoder with the sparsity constraint. You can build on the MLP implementation from EE5600. Choose your network size appropriately (meaning a size that you can train and test on your computer without running into memory issues)."
   ]
  },
  {
   "cell_type": "code",
   "execution_count": 1,
   "metadata": {},
   "outputs": [],
   "source": [
    "import numpy as np\n",
    "import tensorflow as tf"
   ]
  },
  {
   "cell_type": "code",
   "execution_count": 2,
   "metadata": {},
   "outputs": [],
   "source": [
    "# Get the MNIST data from keras and downsample\n",
    "mnist = tf.keras.datasets.mnist\n",
    "(x_train, y_train),(x_test, y_test) = mnist.load_data()\n",
    "\n",
    "x_train = np.reshape(x_train, newshape=(*x_train.shape, 1))\n",
    "x_train = tf.image.resize_images(images=x_train, size=(14,14))\n",
    "x = tf.Session().run(x_train)\n",
    "x_train = np.asarray(x, dtype=np.uint8).reshape(x_train.shape[0], 196) / 255.\n",
    "# pd.DataFrame(x_train).to_csv('train.csv', sep=',', index=True, header=False)\n",
    "\n",
    "x_test = np.reshape(x_test, newshape=(*x_test.shape, 1))\n",
    "x_test = tf.image.resize_images(images=x_test, size=(14,14))\n",
    "x = tf.Session().run(x_test)\n",
    "x_test = np.asarray(x, dtype=np.uint8).reshape(x_test.shape[0], 196) / 255.\n",
    "# pd.DataFrame(x_test).to_csv('train.csv', sep=',', index=True, header=False)"
   ]
  },
  {
   "cell_type": "code",
   "execution_count": 3,
   "metadata": {},
   "outputs": [],
   "source": [
    "import matplotlib.pyplot as plt\n",
    "def show_digits(x, y): # x - 196 dim vector\n",
    "    x, y = np.reshape(x, (14,14)), np.reshape(y, (14,14))\n",
    "    fig = plt.figure(figsize=(4, 10))\n",
    "    fig.add_subplot(1,2,1)\n",
    "    plt.imshow(x, cmap='gray')\n",
    "    fig.add_subplot(1,2,2)\n",
    "    plt.imshow(y, cmap='gray')    \n",
    "    plt.show()\n"
   ]
  },
  {
   "cell_type": "code",
   "execution_count": 4,
   "metadata": {},
   "outputs": [],
   "source": [
    "class NN(object):\n",
    "    def __init__(self, input_dim, hidden_dim, learn_rate, sparsity, regularization):\n",
    "        self.input_dim = input_dim\n",
    "        self.hidden_dim = hidden_dim\n",
    "        self.output_dim = input_dim\n",
    "        self.learn_rate = learn_rate\n",
    "        self.s = sparsity\n",
    "        self.Lambda = regularization\n",
    "        # intialize weights\n",
    "        self.A = np.random.normal(0,  1, (self.hidden_dim, self.input_dim))\n",
    "        self.B = np.random.normal(0,  1, (self.output_dim, self.hidden_dim))\n",
    "        self.a0 = np.random.normal(0, 1, self.hidden_dim)\n",
    "        self.b0 = np.random.normal(0, 1, self.output_dim)\n",
    "\n",
    "    def sigmoid(self, t):\n",
    "        return 1/(1  + np.exp(-t))\n",
    "\n",
    "    def dsigmoid(self, t):\n",
    "        sigt = self.sigmoid(t)\n",
    "        return sigt*(1-sigt)\n",
    "\n",
    "    def hidden_layer(self, x):\n",
    "        # A.shape:mxd; x.shape;(d,); so z.shape=(m,)\n",
    "        z = self.sigmoid(np.dot(x, self.A.T) + self.a0) \n",
    "        return z\n",
    "\n",
    "    def forward_pass(self, x):\n",
    "        # B.shape:kxm; z.shape;m; so y_hat.shape=k\n",
    "        y_hat = self.sigmoid(np.dot(self.hidden_layer(x), self.B.T) + self.b0)\n",
    "        return y_hat\n",
    "    \n",
    "    def back_propogate(self, X):\n",
    "        dSSE_A, dSSE_a0 = np.zeros_like(self.A), np.zeros_like(self.a0)\n",
    "        dSSE_B, dSSE_b0 = np.zeros_like(self.B), np.zeros_like(self.b0)\n",
    "        Z = self.hidden_layer(X) # Z.shape = (N,m)\n",
    "        # print('hidden mean',Z[0].shape, np.mean(Z[0]))\n",
    "        dZ = Z * (1-Z) # dZ shape = (N,m)\n",
    "        # y_delta.shape (N,k)\n",
    "        Y_out = self.forward_pass(X)\n",
    "        y_delta = 2*(Y_out-X) * self.dsigmoid(self.b0 + np.dot(Z, self.B.T))\n",
    "        # print(y_delta.shape)\n",
    "        # z_delta.shape (N,m)\n",
    "        z_delta = -dZ * np.matmul(y_delta, self.B) \n",
    "        # z_delta = np.transpose(-dZ.T * np.sum(y_delta, axis=1))\n",
    "        zm = np.mean(Z, axis=0)\n",
    "        # print(zm, zm.shape)\n",
    "        # dKL shape = (N,m) \n",
    "        dKL = self.Lambda * ((-self.s/zm) + ((1-self.s)/(1-zm))) * dZ # shape: (N,m)\n",
    "        #print(dKL.shape)\n",
    "        dSSE_A = np.matmul((z_delta + dKL).T , X)\n",
    "        #print(dSSE_A.shape)\n",
    "        dSSE_a0 = np.sum((z_delta+dKL), axis=0)\n",
    "        #print(dSSE_a0.shape)\n",
    "        dSSE_B = np.matmul(y_delta.T, Z)\n",
    "        # print('dsseB', dSSE_B.shape)\n",
    "        dSSE_b0 = np.sum(y_delta, axis=0)\n",
    "        # update weights \n",
    "        #print('blah', self.A.shape)\n",
    "        A_new = self.A - (self.learn_rate*dSSE_A)\n",
    "        a0_new = self.a0 - (self.learn_rate*dSSE_a0)\n",
    "        B_new = self.B - (self.learn_rate*dSSE_B)\n",
    "        b0_new = self.b0 - (self.learn_rate*dSSE_b0)\n",
    "        return [A_new, a0_new, B_new, b0_new]\n",
    "    \n",
    "    def loss(self, X):\n",
    "        y_hat = self.forward_pass(X)\n",
    "        err = np.sum((X - y_hat)**2)\n",
    "        zm = np.mean(self.hidden_layer(X), axis=0)\n",
    "        regularizer = self.Lambda*np.sum(self.s*np.log(self.s/zm) + (1-self.s)*np.log((1-self.s)/(1-zm)))\n",
    "        return err+regularizer\n",
    "    \n",
    "    def train(self, x_train, epochs, batch_size, shuffle=True): \n",
    "        epoch = 1\n",
    "        N = len(x_train)\n",
    "        while(epoch <= epochs):\n",
    "            if shuffle:\n",
    "                indices = np.arange(N)\n",
    "                np.random.shuffle(indices)\n",
    "                x_train = x_train[indices]\n",
    "            \n",
    "            for batch in np.arange(0, N, batch_size):\n",
    "                X = x_train[batch:batch+batch_size]\n",
    "                Y_hat = self.forward_pass(X)\n",
    "                [self.A, self.a0, self.B, self.b0] = self.back_propogate(X)\n",
    "            \n",
    "            print('Epoch:', epoch, ' Loss:', self.loss(x_train))\n",
    "            if epoch%5==0: show_digits(X[0], Y_hat[0])\n",
    "            epoch += 1\n",
    "        print('Done Training')\n",
    "    "
   ]
  },
  {
   "cell_type": "code",
   "execution_count": 5,
   "metadata": {
    "scrolled": true
   },
   "outputs": [
    {
     "name": "stdout",
     "output_type": "stream",
     "text": [
      "Epoch: 1  Loss: 3407325.082509505\n",
      "Epoch: 2  Loss: 2521522.8028088263\n",
      "Epoch: 3  Loss: 1988789.9843748123\n",
      "Epoch: 4  Loss: 1683256.3988761008\n",
      "Epoch: 5  Loss: 1515730.848666568\n"
     ]
    },
    {
     "data": {
      "image/png": "[encoded data removed]",
      "text/plain": [
       "<Figure size 288x720 with 2 Axes>"
      ]
     },
     "metadata": {},
     "output_type": "display_data"
    },
    {
     "name": "stdout",
     "output_type": "stream",
     "text": [
      "Epoch: 6  Loss: 1421006.3033429259\n",
      "Epoch: 7  Loss: 1355232.9699962062\n",
      "Epoch: 8  Loss: 1306465.1684278967\n",
      "Epoch: 9  Loss: 1270838.0440949847\n",
      "Epoch: 10  Loss: 1244178.811643471\n"
     ]
    },
    {
     "data": {
      "image/png": "[encoded data removed]",
      "text/plain": [
       "<Figure size 288x720 with 2 Axes>"
      ]
     },
     "metadata": {},
     "output_type": "display_data"
    },
    {
     "name": "stdout",
     "output_type": "stream",
     "text": [
      "Epoch: 11  Loss: 1223127.10397872\n",
      "Epoch: 12  Loss: 1205638.195798248\n",
      "Epoch: 13  Loss: 1190462.8974223647\n",
      "Epoch: 14  Loss: 1176859.316793546\n",
      "Epoch: 15  Loss: 1164689.5842960184\n"
     ]
    },
    {
     "data": {
      "image/png": "[encoded data removed]",
      "text/plain": [
       "<Figure size 288x720 with 2 Axes>"
      ]
     },
     "metadata": {},
     "output_type": "display_data"
    },
    {
     "name": "stdout",
     "output_type": "stream",
     "text": [
      "Epoch: 16  Loss: 1153424.5467674464\n",
      "Epoch: 17  Loss: 1142898.100987152\n",
      "Epoch: 18  Loss: 1132997.0410895254\n",
      "Epoch: 19  Loss: 1123710.986934633\n",
      "Epoch: 20  Loss: 1114891.0561930567\n"
     ]
    },
    {
     "data": {
      "image/png": "[encoded data removed]",
      "text/plain": [
       "<Figure size 288x720 with 2 Axes>"
      ]
     },
     "metadata": {},
     "output_type": "display_data"
    },
    {
     "name": "stdout",
     "output_type": "stream",
     "text": [
      "Epoch: 21  Loss: 1106631.7135331195\n",
      "Epoch: 22  Loss: 1098907.1195020769\n",
      "Epoch: 23  Loss: 1091631.6286849042\n",
      "Epoch: 24  Loss: 1084840.32619744\n",
      "Epoch: 25  Loss: 1078404.7390974488\n"
     ]
    },
    {
     "data": {
      "image/png": "[encoded data removed]",
      "text/plain": [
       "<Figure size 288x720 with 2 Axes>"
      ]
     },
     "metadata": {},
     "output_type": "display_data"
    },
    {
     "name": "stdout",
     "output_type": "stream",
     "text": [
      "Epoch: 26  Loss: 1072370.0611686718\n",
      "Epoch: 27  Loss: 1066677.4298659393\n",
      "Epoch: 28  Loss: 1061147.807939419\n",
      "Epoch: 29  Loss: 1055693.6177100474\n",
      "Epoch: 30  Loss: 1050391.0788525918\n"
     ]
    },
    {
     "data": {
      "image/png": "[encoded data removed]",
      "text/plain": [
       "<Figure size 288x720 with 2 Axes>"
      ]
     },
     "metadata": {},
     "output_type": "display_data"
    },
    {
     "name": "stdout",
     "output_type": "stream",
     "text": [
      "Epoch: 31  Loss: 1045004.4857326591\n",
      "Epoch: 32  Loss: 1039697.9347317629\n",
      "Epoch: 33  Loss: 1034490.276565849\n",
      "Epoch: 34  Loss: 1029414.6206203277\n",
      "Epoch: 35  Loss: 1024104.670261063\n"
     ]
    },
    {
     "data": {
      "image/png": "[encoded data removed]",
      "text/plain": [
       "<Figure size 288x720 with 2 Axes>"
      ]
     },
     "metadata": {},
     "output_type": "display_data"
    },
    {
     "name": "stdout",
     "output_type": "stream",
     "text": [
      "Epoch: 36  Loss: 1018888.9454229226\n",
      "Epoch: 37  Loss: 1013673.8701273832\n",
      "Epoch: 38  Loss: 1008281.0501513783\n",
      "Epoch: 39  Loss: 1002828.8784572968\n",
      "Epoch: 40  Loss: 997455.3498310784\n"
     ]
    },
    {
     "data": {
      "image/png": "[encoded data removed]",
      "text/plain": [
       "<Figure size 288x720 with 2 Axes>"
      ]
     },
     "metadata": {},
     "output_type": "display_data"
    },
    {
     "name": "stdout",
     "output_type": "stream",
     "text": [
      "Epoch: 41  Loss: 991933.4692121663\n",
      "Epoch: 42  Loss: 986532.9949730263\n",
      "Epoch: 43  Loss: 981109.8202822082\n",
      "Epoch: 44  Loss: 975731.9480051742\n",
      "Epoch: 45  Loss: 970429.4655701125\n"
     ]
    },
    {
     "data": {
      "image/png": "[encoded data removed]",
      "text/plain": [
       "<Figure size 288x720 with 2 Axes>"
      ]
     },
     "metadata": {},
     "output_type": "display_data"
    },
    {
     "name": "stdout",
     "output_type": "stream",
     "text": [
      "Epoch: 46  Loss: 965149.4172445069\n",
      "Epoch: 47  Loss: 959898.4633710041\n",
      "Epoch: 48  Loss: 954867.165599139\n",
      "Epoch: 49  Loss: 949801.7605808891\n",
      "Epoch: 50  Loss: 944715.7530587686\n"
     ]
    },
    {
     "data": {
      "image/png": "[encoded data removed]",
      "text/plain": [
       "<Figure size 288x720 with 2 Axes>"
      ]
     },
     "metadata": {},
     "output_type": "display_data"
    },
    {
     "name": "stdout",
     "output_type": "stream",
     "text": [
      "Epoch: 51  Loss: 939825.0442731708\n",
      "Epoch: 52  Loss: 935092.5519744791\n",
      "Epoch: 53  Loss: 930397.7677216694\n",
      "Epoch: 54  Loss: 925841.1025981696\n",
      "Epoch: 55  Loss: 921351.0616949034\n"
     ]
    },
    {
     "data": {
      "image/png": "[encoded data removed]",
      "text/plain": [
       "<Figure size 288x720 with 2 Axes>"
      ]
     },
     "metadata": {},
     "output_type": "display_data"
    },
    {
     "name": "stdout",
     "output_type": "stream",
     "text": [
      "Epoch: 56  Loss: 916896.6581861752\n",
      "Epoch: 57  Loss: 912412.9992156766\n",
      "Epoch: 58  Loss: 908075.6575297102\n",
      "Epoch: 59  Loss: 903762.4622409914\n",
      "Epoch: 60  Loss: 899604.6871992362\n"
     ]
    },
    {
     "data": {
      "image/png": "[encoded data removed]",
      "text/plain": [
       "<Figure size 288x720 with 2 Axes>"
      ]
     },
     "metadata": {},
     "output_type": "display_data"
    },
    {
     "name": "stdout",
     "output_type": "stream",
     "text": [
      "Epoch: 61  Loss: 895521.2083169362\n",
      "Epoch: 62  Loss: 891542.1703054535\n",
      "Epoch: 63  Loss: 887648.9159308949\n",
      "Epoch: 64  Loss: 883961.6552746771\n",
      "Epoch: 65  Loss: 880433.1901543041\n"
     ]
    },
    {
     "data": {
      "image/png": "[encoded data removed]",
      "text/plain": [
       "<Figure size 288x720 with 2 Axes>"
      ]
     },
     "metadata": {},
     "output_type": "display_data"
    },
    {
     "name": "stdout",
     "output_type": "stream",
     "text": [
      "Epoch: 66  Loss: 877111.3216189204\n",
      "Epoch: 67  Loss: 873858.5519047687\n",
      "Epoch: 68  Loss: 870626.0538722115\n",
      "Epoch: 69  Loss: 867474.5909523445\n",
      "Epoch: 70  Loss: 864461.4473966304\n"
     ]
    },
    {
     "data": {
      "image/png": "[encoded data removed]",
      "text/plain": [
       "<Figure size 288x720 with 2 Axes>"
      ]
     },
     "metadata": {},
     "output_type": "display_data"
    },
    {
     "name": "stdout",
     "output_type": "stream",
     "text": [
      "Epoch: 71  Loss: 861560.1522255616\n",
      "Epoch: 72  Loss: 858923.7476017699\n",
      "Epoch: 73  Loss: 856505.8072496428\n",
      "Epoch: 74  Loss: 854405.7122966489\n",
      "Epoch: 75  Loss: 852561.7500061857\n"
     ]
    },
    {
     "data": {
      "image/png": "[encoded data removed]",
      "text/plain": [
       "<Figure size 288x720 with 2 Axes>"
      ]
     },
     "metadata": {},
     "output_type": "display_data"
    },
    {
     "name": "stdout",
     "output_type": "stream",
     "text": [
      "Epoch: 76  Loss: 850944.7649231674\n",
      "Epoch: 77  Loss: 849586.335735832\n",
      "Epoch: 78  Loss: 848537.3104931208\n",
      "Epoch: 79  Loss: 847703.4670797333\n",
      "Epoch: 80  Loss: 847144.9049790504\n"
     ]
    },
    {
     "data": {
      "image/png": "[encoded data removed]",
      "text/plain": [
       "<Figure size 288x720 with 2 Axes>"
      ]
     },
     "metadata": {},
     "output_type": "display_data"
    },
    {
     "name": "stdout",
     "output_type": "stream",
     "text": [
      "Epoch: 81  Loss: 846878.9412701994\n",
      "Epoch: 82  Loss: 846808.0818790001\n",
      "Epoch: 83  Loss: 847072.2416907446\n",
      "Epoch: 84  Loss: 847541.3444938328\n",
      "Epoch: 85  Loss: 848405.0977697725\n"
     ]
    },
    {
     "data": {
      "image/png": "[encoded data removed]",
      "text/plain": [
       "<Figure size 288x720 with 2 Axes>"
      ]
     },
     "metadata": {},
     "output_type": "display_data"
    },
    {
     "name": "stdout",
     "output_type": "stream",
     "text": [
      "Epoch: 86  Loss: 849574.8640100841\n",
      "Epoch: 87  Loss: 851039.5099768295\n",
      "Epoch: 88  Loss: 852774.9904330091\n",
      "Epoch: 89  Loss: 854481.9438340811\n",
      "Epoch: 90  Loss: 855754.7700129403\n"
     ]
    },
    {
     "data": {
      "image/png": "[encoded data removed]",
      "text/plain": [
       "<Figure size 288x720 with 2 Axes>"
      ]
     },
     "metadata": {},
     "output_type": "display_data"
    },
    {
     "name": "stdout",
     "output_type": "stream",
     "text": [
      "Epoch: 91  Loss: 856321.5973052391\n",
      "Epoch: 92  Loss: 856123.912410974\n",
      "Epoch: 93  Loss: 854901.7958790532\n",
      "Epoch: 94  Loss: 852825.8378586839\n",
      "Epoch: 95  Loss: 850296.8549950231\n"
     ]
    },
    {
     "data": {
      "image/png": "[encoded data removed]",
      "text/plain": [
       "<Figure size 288x720 with 2 Axes>"
      ]
     },
     "metadata": {},
     "output_type": "display_data"
    },
    {
     "name": "stdout",
     "output_type": "stream",
     "text": [
      "Epoch: 96  Loss: 847534.4271553666\n",
      "Epoch: 97  Loss: 845148.7532448132\n",
      "Epoch: 98  Loss: 843313.7411555011\n",
      "Epoch: 99  Loss: 842023.5904774802\n",
      "Epoch: 100  Loss: 841216.6313911052\n"
     ]
    },
    {
     "data": {
      "image/png": "[encoded data removed]",
      "text/plain": [
       "<Figure size 288x720 with 2 Axes>"
      ]
     },
     "metadata": {},
     "output_type": "display_data"
    },
    {
     "name": "stdout",
     "output_type": "stream",
     "text": [
      "Epoch: 101  Loss: 840839.8286140343\n",
      "Epoch: 102  Loss: 840600.3704864918\n",
      "Epoch: 103  Loss: 840133.6808459212\n",
      "Epoch: 104  Loss: 839078.8753253457\n",
      "Epoch: 105  Loss: 837347.301076661\n"
     ]
    },
    {
     "data": {
      "image/png": "[encoded data removed]",
      "text/plain": [
       "<Figure size 288x720 with 2 Axes>"
      ]
     },
     "metadata": {},
     "output_type": "display_data"
    },
    {
     "name": "stdout",
     "output_type": "stream",
     "text": [
      "Epoch: 106  Loss: 834922.2606085117\n",
      "Epoch: 107  Loss: 832041.5802726712\n",
      "Epoch: 108  Loss: 828894.8482816184\n",
      "Epoch: 109  Loss: 825965.9843302305\n",
      "Epoch: 110  Loss: 823263.0113938402\n"
     ]
    },
    {
     "data": {
      "image/png": "[encoded data removed]",
      "text/plain": [
       "<Figure size 288x720 with 2 Axes>"
      ]
     },
     "metadata": {},
     "output_type": "display_data"
    },
    {
     "name": "stdout",
     "output_type": "stream",
     "text": [
      "Epoch: 111  Loss: 820995.9770309892\n",
      "Epoch: 112  Loss: 819300.0954155666\n",
      "Epoch: 113  Loss: 818362.9057104385\n",
      "Epoch: 114  Loss: 818172.1218342136\n",
      "Epoch: 115  Loss: 818160.8428820602\n"
     ]
    },
    {
     "data": {
      "image/png": "[encoded data removed]",
      "text/plain": [
       "<Figure size 288x720 with 2 Axes>"
      ]
     },
     "metadata": {},
     "output_type": "display_data"
    },
    {
     "name": "stdout",
     "output_type": "stream",
     "text": [
      "Epoch: 116  Loss: 817774.0987453017\n",
      "Epoch: 117  Loss: 816987.3293203914\n",
      "Epoch: 118  Loss: 815813.3088501586\n",
      "Epoch: 119  Loss: 814194.5265023669\n",
      "Epoch: 120  Loss: 812380.9566392568\n"
     ]
    },
    {
     "data": {
      "image/png": "[encoded data removed]",
      "text/plain": [
       "<Figure size 288x720 with 2 Axes>"
      ]
     },
     "metadata": {},
     "output_type": "display_data"
    },
    {
     "name": "stdout",
     "output_type": "stream",
     "text": [
      "Epoch: 121  Loss: 810495.4829706866\n",
      "Epoch: 122  Loss: 808777.9957730077\n",
      "Epoch: 123  Loss: 807266.0947246755\n",
      "Epoch: 124  Loss: 806108.0556949413\n",
      "Epoch: 125  Loss: 805126.5357392323\n"
     ]
    },
    {
     "data": {
      "image/png": "[encoded data removed]",
      "text/plain": [
       "<Figure size 288x720 with 2 Axes>"
      ]
     },
     "metadata": {},
     "output_type": "display_data"
    },
    {
     "name": "stdout",
     "output_type": "stream",
     "text": [
      "Epoch: 126  Loss: 804585.3090954312\n",
      "Epoch: 127  Loss: 804767.9621846287\n",
      "Epoch: 128  Loss: 805465.044998575\n",
      "Epoch: 129  Loss: 805899.1661644656\n",
      "Epoch: 130  Loss: 806053.9447520603\n"
     ]
    },
    {
     "data": {
      "image/png": "[encoded data removed]",
      "text/plain": [
       "<Figure size 288x720 with 2 Axes>"
      ]
     },
     "metadata": {},
     "output_type": "display_data"
    },
    {
     "name": "stdout",
     "output_type": "stream",
     "text": [
      "Epoch: 131  Loss: 805880.208075814\n",
      "Epoch: 132  Loss: 804652.4043041294\n",
      "Epoch: 133  Loss: 801779.3658969343\n",
      "Epoch: 134  Loss: 796349.187897318\n",
      "Epoch: 135  Loss: 789215.9144802255\n"
     ]
    },
    {
     "data": {
      "image/png": "[encoded data removed]",
      "text/plain": [
       "<Figure size 288x720 with 2 Axes>"
      ]
     },
     "metadata": {},
     "output_type": "display_data"
    },
    {
     "name": "stdout",
     "output_type": "stream",
     "text": [
      "Epoch: 136  Loss: 781656.9758917562\n",
      "Epoch: 137  Loss: 774538.3853529453\n",
      "Epoch: 138  Loss: 768217.2523008218\n",
      "Epoch: 139  Loss: 762787.4228734825\n",
      "Epoch: 140  Loss: 757985.0150498487\n"
     ]
    },
    {
     "data": {
      "image/png": "[encoded data removed]",
      "text/plain": [
       "<Figure size 288x720 with 2 Axes>"
      ]
     },
     "metadata": {},
     "output_type": "display_data"
    },
    {
     "name": "stdout",
     "output_type": "stream",
     "text": [
      "Epoch: 141  Loss: 753766.6869346917\n",
      "Epoch: 142  Loss: 750098.6617163836\n",
      "Epoch: 143  Loss: 746880.9472254298\n",
      "Epoch: 144  Loss: 744179.8124079605\n",
      "Epoch: 145  Loss: 741922.6197648738\n"
     ]
    },
    {
     "data": {
      "image/png": "[encoded data removed]",
      "text/plain": [
       "<Figure size 288x720 with 2 Axes>"
      ]
     },
     "metadata": {},
     "output_type": "display_data"
    },
    {
     "name": "stdout",
     "output_type": "stream",
     "text": [
      "Epoch: 146  Loss: 740078.3705044902\n",
      "Epoch: 147  Loss: 738649.7592553105\n",
      "Epoch: 148  Loss: 737536.1433215956\n",
      "Epoch: 149  Loss: 736663.9799360627\n",
      "Epoch: 150  Loss: 736086.2673781596\n"
     ]
    },
    {
     "data": {
      "image/png": "[encoded data removed]",
      "text/plain": [
       "<Figure size 288x720 with 2 Axes>"
      ]
     },
     "metadata": {},
     "output_type": "display_data"
    },
    {
     "name": "stdout",
     "output_type": "stream",
     "text": [
      "Done Training\n"
     ]
    }
   ],
   "source": [
    "SparseAE1 = NN(input_dim=196, hidden_dim=225, learn_rate=1e-4, sparsity=0.1, regularization=1)\n",
    "\n",
    "SparseAE1.train(x_train=x_train, epochs=150, batch_size=300, shuffle=True)\n"
   ]
  },
  {
   "cell_type": "code",
   "execution_count": 6,
   "metadata": {
    "scrolled": true
   },
   "outputs": [
    {
     "data": {
      "image/png": "[encoded data removed]",
      "text/plain": [
       "<Figure size 288x720 with 2 Axes>"
      ]
     },
     "metadata": {},
     "output_type": "display_data"
    },
    {
     "name": "stdout",
     "output_type": "stream",
     "text": [
      "0.10804155687104096\n"
     ]
    },
    {
     "data": {
      "image/png": "[encoded data removed]",
      "text/plain": [
       "<Figure size 288x720 with 2 Axes>"
      ]
     },
     "metadata": {},
     "output_type": "display_data"
    },
    {
     "name": "stdout",
     "output_type": "stream",
     "text": [
      "0.10706568864178621\n"
     ]
    },
    {
     "data": {
      "image/png": "[encoded data removed]",
      "text/plain": [
       "<Figure size 288x720 with 2 Axes>"
      ]
     },
     "metadata": {},
     "output_type": "display_data"
    },
    {
     "name": "stdout",
     "output_type": "stream",
     "text": [
      "0.04438378954587863\n"
     ]
    },
    {
     "data": {
      "image/png": "[encoded data removed]",
      "text/plain": [
       "<Figure size 288x720 with 2 Axes>"
      ]
     },
     "metadata": {},
     "output_type": "display_data"
    },
    {
     "name": "stdout",
     "output_type": "stream",
     "text": [
      "0.07812827369433466\n"
     ]
    },
    {
     "data": {
      "image/png": "[encoded data removed]",
      "text/plain": [
       "<Figure size 288x720 with 2 Axes>"
      ]
     },
     "metadata": {},
     "output_type": "display_data"
    },
    {
     "name": "stdout",
     "output_type": "stream",
     "text": [
      "0.24219476162175088\n"
     ]
    },
    {
     "data": {
      "image/png": "[encoded data removed]",
      "text/plain": [
       "<Figure size 288x720 with 2 Axes>"
      ]
     },
     "metadata": {},
     "output_type": "display_data"
    },
    {
     "name": "stdout",
     "output_type": "stream",
     "text": [
      "0.03698334492562646\n"
     ]
    },
    {
     "data": {
      "image/png": "[encoded data removed]",
      "text/plain": [
       "<Figure size 288x720 with 2 Axes>"
      ]
     },
     "metadata": {},
     "output_type": "display_data"
    },
    {
     "name": "stdout",
     "output_type": "stream",
     "text": [
      "0.11169565418209196\n"
     ]
    },
    {
     "data": {
      "image/png": "[encoded data removed]",
      "text/plain": [
       "<Figure size 288x720 with 2 Axes>"
      ]
     },
     "metadata": {},
     "output_type": "display_data"
    },
    {
     "name": "stdout",
     "output_type": "stream",
     "text": [
      "0.11077972516025704\n"
     ]
    },
    {
     "data": {
      "image/png": "[encoded data removed]",
      "text/plain": [
       "<Figure size 288x720 with 2 Axes>"
      ]
     },
     "metadata": {},
     "output_type": "display_data"
    },
    {
     "name": "stdout",
     "output_type": "stream",
     "text": [
      "0.07861361600834271\n"
     ]
    },
    {
     "data": {
      "image/png": "[encoded data removed]",
      "text/plain": [
       "<Figure size 288x720 with 2 Axes>"
      ]
     },
     "metadata": {},
     "output_type": "display_data"
    },
    {
     "name": "stdout",
     "output_type": "stream",
     "text": [
      "0.05447443578483974\n"
     ]
    },
    {
     "data": {
      "image/png": "[encoded data removed]",
      "text/plain": [
       "<Figure size 288x720 with 2 Axes>"
      ]
     },
     "metadata": {},
     "output_type": "display_data"
    },
    {
     "name": "stdout",
     "output_type": "stream",
     "text": [
      "0.27525204463379865\n"
     ]
    },
    {
     "data": {
      "image/png": "[encoded data removed]",
      "text/plain": [
       "<Figure size 288x720 with 2 Axes>"
      ]
     },
     "metadata": {},
     "output_type": "display_data"
    },
    {
     "name": "stdout",
     "output_type": "stream",
     "text": [
      "0.15758808492413953\n"
     ]
    },
    {
     "data": {
      "image/png": "[encoded data removed]",
      "text/plain": [
       "<Figure size 288x720 with 2 Axes>"
      ]
     },
     "metadata": {},
     "output_type": "display_data"
    },
    {
     "name": "stdout",
     "output_type": "stream",
     "text": [
      "0.1080428916632512\n"
     ]
    },
    {
     "data": {
      "image/png": "[encoded data removed]",
      "text/plain": [
       "<Figure size 288x720 with 2 Axes>"
      ]
     },
     "metadata": {},
     "output_type": "display_data"
    },
    {
     "name": "stdout",
     "output_type": "stream",
     "text": [
      "0.17724502976593853\n"
     ]
    },
    {
     "data": {
      "image/png": "[encoded data removed]",
      "text/plain": [
       "<Figure size 288x720 with 2 Axes>"
      ]
     },
     "metadata": {},
     "output_type": "display_data"
    },
    {
     "name": "stdout",
     "output_type": "stream",
     "text": [
      "0.01766655229455818\n"
     ]
    },
    {
     "data": {
      "image/png": "[encoded data removed]",
      "text/plain": [
       "<Figure size 288x720 with 2 Axes>"
      ]
     },
     "metadata": {},
     "output_type": "display_data"
    },
    {
     "name": "stdout",
     "output_type": "stream",
     "text": [
      "0.20994485017992578\n"
     ]
    },
    {
     "data": {
      "image/png": "[encoded data removed]",
      "text/plain": [
       "<Figure size 288x720 with 2 Axes>"
      ]
     },
     "metadata": {},
     "output_type": "display_data"
    },
    {
     "name": "stdout",
     "output_type": "stream",
     "text": [
      "0.1150866776826784\n"
     ]
    },
    {
     "data": {
      "image/png": "[encoded data removed]",
      "text/plain": [
       "<Figure size 288x720 with 2 Axes>"
      ]
     },
     "metadata": {},
     "output_type": "display_data"
    },
    {
     "name": "stdout",
     "output_type": "stream",
     "text": [
      "0.11629129932475868\n"
     ]
    },
    {
     "data": {
      "image/png": "[encoded data removed]",
      "text/plain": [
       "<Figure size 288x720 with 2 Axes>"
      ]
     },
     "metadata": {},
     "output_type": "display_data"
    },
    {
     "name": "stdout",
     "output_type": "stream",
     "text": [
      "0.13448447366680893\n"
     ]
    },
    {
     "data": {
      "image/png": "[encoded data removed]",
      "text/plain": [
       "<Figure size 288x720 with 2 Axes>"
      ]
     },
     "metadata": {},
     "output_type": "display_data"
    },
    {
     "name": "stdout",
     "output_type": "stream",
     "text": [
      "0.14221013550821868\n"
     ]
    }
   ],
   "source": [
    "for i in range(20):\n",
    "    test_out = SparseAE1.forward_pass(x_test[i])\n",
    "    test_rep = SparseAE1.hidden_layer(x_test[i])\n",
    "    show_digits(x_test[i], test_out)\n",
    "    print(test_rep.mean()) # this mean should be close to the chosen sparsity"
   ]
  },
  {
   "cell_type": "code",
   "execution_count": null,
   "metadata": {
    "scrolled": true
   },
   "outputs": [
    {
     "name": "stdout",
     "output_type": "stream",
     "text": [
      "Epoch: 1  Loss: 2416632.2022379735\n",
      "Epoch: 2  Loss: 1640434.222192323\n",
      "Epoch: 3  Loss: 1398468.8903922003\n",
      "Epoch: 4  Loss: 1289757.5693635629\n",
      "Epoch: 5  Loss: 1228525.1434272393\n"
     ]
    },
    {
     "data": {
      "image/png": "[encoded data removed]",
      "text/plain": [
       "<Figure size 288x720 with 2 Axes>"
      ]
     },
     "metadata": {},
     "output_type": "display_data"
    },
    {
     "name": "stdout",
     "output_type": "stream",
     "text": [
      "Epoch: 6  Loss: 1188596.0693782875\n",
      "Epoch: 7  Loss: 1158920.0670737205\n"
     ]
    }
   ],
   "source": [
    "SparseAE2 = NN(input_dim=196, hidden_dim=256, learn_rate=2e-4, sparsity=0.05, regularization=2)\n",
    "\n",
    "SparseAE2.train(x_train=x_train, epochs=150, batch_size=300, shuffle=True)\n"
   ]
  },
  {
   "cell_type": "code",
   "execution_count": null,
   "metadata": {
    "scrolled": true
   },
   "outputs": [],
   "source": [
    "for i in range(20):\n",
    "    test_out = SparseAE2.forward_pass(x_test[i])\n",
    "    test_rep = SparseAE2.hidden_layer(x_test[i])\n",
    "    show_digits(x_test[i], test_out)\n",
    "    print(test_rep.mean()) # this mean should be close to the chosen sparsity"
   ]
  }
 ],
 "metadata": {
  "kernelspec": {
   "display_name": "Python 3",
   "language": "python",
   "name": "python3"
  },
  "language_info": {
   "codemirror_mode": {
    "name": "ipython",
    "version": 3
   },
   "file_extension": ".py",
   "mimetype": "text/x-python",
   "name": "python",
   "nbconvert_exporter": "python",
   "pygments_lexer": "ipython3",
   "version": "3.5.2"
  }
 },
 "nbformat": 4,
 "nbformat_minor": 2
}
