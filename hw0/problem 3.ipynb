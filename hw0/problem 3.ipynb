{
 "cells": [
  {
   "cell_type": "markdown",
   "metadata": {},
   "source": [
    "# AI and ML - Homework "
   ]
  },
  {
   "cell_type": "code",
   "execution_count": 59,
   "metadata": {},
   "outputs": [],
   "source": [
    "# imports\n",
    "import numpy as np\n",
    "import matplotlib.pyplot as plt"
   ]
  },
  {
   "cell_type": "code",
   "execution_count": 60,
   "metadata": {},
   "outputs": [],
   "source": [
    "# Generate training samples\n",
    "N = 50 # Number of training samples\n",
    "# Generate equispaced floats in the interval [0, 2π]\n",
    "x = np.linspace(0, 2*np.pi, N)\n",
    "# Generate noise\n",
    "mean = 0\n",
    "std = 0.05\n",
    "# Generate some numbers from the sine function\n",
    "y = np.sin(x)\n",
    "# Add noise\n",
    "y += np.random.normal(mean, std, N)"
   ]
  },
  {
   "cell_type": "code",
   "execution_count": 61,
   "metadata": {},
   "outputs": [],
   "source": [
    "# Generate test inputs\n",
    "N_test = 100\n",
    "x_test = np.linspace(0,2*np.pi, N_test)\n",
    "test_mean = 0\n",
    "test_std = 0.05\n",
    "x_test += np.random.normal(test_mean, test_std, N_test)"
   ]
  },
  {
   "cell_type": "markdown",
   "metadata": {},
   "source": [
    "### _l2_ Regularized Linear Regression using Polynomial basis function"
   ]
  },
  {
   "cell_type": "code",
   "execution_count": 62,
   "metadata": {},
   "outputs": [],
   "source": [
    "def get_regularized_weights(X, _y, _lambda):\n",
    "    w = np.dot(np.dot(np.linalg.inv(np.dot(np.transpose(X),X) + _lambda*np.identity(len(np.transpose(X)))), np.transpose(X)), _y)\n",
    "    return w"
   ]
  },
  {
   "cell_type": "code",
   "execution_count": 63,
   "metadata": {},
   "outputs": [],
   "source": [
    "def polynomial(X, _M):\n",
    "    _phi_x = X\n",
    "    for i in range(2, _M+1):\n",
    "        _phi_x = np.c_[_phi_x, X**i]\n",
    "    return _phi_x"
   ]
  },
  {
   "cell_type": "code",
   "execution_count": 68,
   "metadata": {},
   "outputs": [
    {
     "name": "stdout",
     "output_type": "stream",
     "text": [
      "(50, 4)\n",
      "(4,)\n"
     ]
    },
    {
     "data": {
      "image/png": "[encoded data removed]",
      "text/plain": [
       "<Figure size 432x288 with 1 Axes>"
      ]
     },
     "metadata": {},
     "output_type": "display_data"
    }
   ],
   "source": [
    "M = 4\n",
    "l = 0.5\n",
    "y1 = y - np.mean(y)\n",
    "x_train = polynomial(x, M)\n",
    "print(x_train.shape)\n",
    "w1 = get_regularized_weights(x_train,y1, l)\n",
    "print(w1.shape)\n",
    "y_predict = np.dot(polynomial(x_test, M), w1) + np.mean(y)\n",
    "# plotting\n",
    "plt.plot(x,y,'bo')\n",
    "plt.plot(x_test, y_predict, 'ro')\n",
    "plt.show() "
   ]
  }
 ],
 "metadata": {
  "kernelspec": {
   "display_name": "Python 3",
   "language": "python",
   "name": "python3"
  },
  "language_info": {
   "codemirror_mode": {
    "name": "ipython",
    "version": 3
   },
   "file_extension": ".py",
   "mimetype": "text/x-python",
   "name": "python",
   "nbconvert_exporter": "python",
   "pygments_lexer": "ipython3",
   "version": "3.5.2"
  }
 },
 "nbformat": 4,
 "nbformat_minor": 2
}
