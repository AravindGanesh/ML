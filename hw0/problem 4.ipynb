{
 "cells": [
  {
   "cell_type": "markdown",
   "metadata": {},
   "source": [
    "# AI and ML - Homework "
   ]
  },
  {
   "cell_type": "code",
   "execution_count": 9,
   "metadata": {},
   "outputs": [],
   "source": [
    "# imports\n",
    "import numpy as np\n",
    "import matplotlib.pyplot as plt"
   ]
  },
  {
   "cell_type": "code",
   "execution_count": 10,
   "metadata": {},
   "outputs": [
    {
     "name": "stdout",
     "output_type": "stream",
     "text": [
      "(10, 2)\n"
     ]
    }
   ],
   "source": [
    "# Generate training samples\n",
    "N = 10 # Number of training samples\n",
    "# Generate equispaced floats in the interval [0, 2π]\n",
    "x = np.linspace(0, 2*np.pi, N)\n",
    "# Generate noise\n",
    "mean = 0\n",
    "std = 0.05\n",
    "# Generate some numbers from the sine function\n",
    "y = np.sin(x)\n",
    "# Add noise\n",
    "y += np.random.normal(mean, std, N)\n",
    "\n",
    "# put column with ones for bias\n",
    "x_train = np.array([np.ones(N), x])\n",
    "# swap axes changes the above 2xN matrix to Nx2 matrix\n",
    "x_train = np.swapaxes(x_train, 0,1)\n",
    "print(x_train.shape)"
   ]
  },
  {
   "cell_type": "code",
   "execution_count": 18,
   "metadata": {},
   "outputs": [],
   "source": [
    "# Generate test inputs\n",
    "N_test = 100\n",
    "x_test = np.linspace(0,2*np.pi, N_test)\n",
    "test_mean = 0\n",
    "test_std = 0.05\n",
    "x_test += np.random.normal(test_mean, test_std, N_test)\n",
    "y_test = np.sin(x_test)\n",
    "# x_test = np.array([np.ones(N_test), x_test])\n",
    "# x_test = np.swapaxes(x_test, 0,1)\n",
    "# print(x_test.shape)"
   ]
  },
  {
   "cell_type": "markdown",
   "metadata": {},
   "source": [
    "### Vanilla Linear Regression\n",
    "model: y = w1*x + w0"
   ]
  },
  {
   "cell_type": "code",
   "execution_count": 12,
   "metadata": {},
   "outputs": [],
   "source": [
    "def get_weights(X, y):\n",
    "    w = np.dot(np.dot(np.linalg.inv(np.dot(np.transpose(X),X)), np.transpose(X)), y)\n",
    "    return w"
   ]
  },
  {
   "cell_type": "code",
   "execution_count": 20,
   "metadata": {},
   "outputs": [
    {
     "name": "stdout",
     "output_type": "stream",
     "text": [
      "4.248207651014035\n"
     ]
    }
   ],
   "source": [
    "w = get_weights(x_train, y)\n",
    "y_predicted = w[0] + w[1]*x_test   # y=mx+c\n",
    "inv_beta = np.dot(np.transpose(y_test - y_predicted), (y_test - y_predicted)) / N_test\n",
    "beta = 1/inv_beta\n",
    "print(beta)"
   ]
  },
  {
   "cell_type": "code",
   "execution_count": 25,
   "metadata": {},
   "outputs": [],
   "source": [
    "y_hat = np.random.normal(y_test, inv_beta, N_test)"
   ]
  },
  {
   "cell_type": "code",
   "execution_count": 26,
   "metadata": {},
   "outputs": [
    {
     "data": {
      "image/png": "[encoded data removed]",
      "text/plain": [
       "<Figure size 432x288 with 1 Axes>"
      ]
     },
     "metadata": {},
     "output_type": "display_data"
    }
   ],
   "source": [
    "# plotting\n",
    "plt.plot(x_test,y_hat,'bo')\n",
    "plt.plot(x_test, y_predicted, 'ro')\n",
    "plt.show()"
   ]
  },
  {
   "cell_type": "code",
   "execution_count": null,
   "metadata": {},
   "outputs": [],
   "source": []
  },
  {
   "cell_type": "markdown",
   "metadata": {},
   "source": [
    "###  Linear Regression using polynomial basis Function"
   ]
  },
  {
   "cell_type": "code",
   "execution_count": null,
   "metadata": {},
   "outputs": [],
   "source": [
    "def polynomial(X, _M):\n",
    "    _phi_x = np.ones(len(X))\n",
    "    for i in range(1, _M+1):\n",
    "        _phi_x = np.c_[_phi_x, X**i]\n",
    "    return _phi_x"
   ]
  },
  {
   "cell_type": "code",
   "execution_count": null,
   "metadata": {},
   "outputs": [],
   "source": [
    "M = 3\n",
    "x_train = polynomial(x, M)\n",
    "# print(x_train.shape)\n",
    "w1 = get_weights(x_train,y)\n",
    "# print(w1)\n",
    "\n",
    "y_predict = np.dot(polynomial(x_test, M), w1)\n",
    "# plotting\n",
    "plt.plot(x,y,'bo')\n",
    "plt.plot(x_test, y_predict, 'ro')\n",
    "plt.show() "
   ]
  },
  {
   "cell_type": "code",
   "execution_count": null,
   "metadata": {},
   "outputs": [],
   "source": []
  }
 ],
 "metadata": {
  "kernelspec": {
   "display_name": "Python 3",
   "language": "python",
   "name": "python3"
  },
  "language_info": {
   "codemirror_mode": {
    "name": "ipython",
    "version": 3
   },
   "file_extension": ".py",
   "mimetype": "text/x-python",
   "name": "python",
   "nbconvert_exporter": "python",
   "pygments_lexer": "ipython3",
   "version": "3.5.2"
  }
 },
 "nbformat": 4,
 "nbformat_minor": 2
}
