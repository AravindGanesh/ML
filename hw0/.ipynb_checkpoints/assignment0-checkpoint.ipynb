{
 "cells": [
  {
   "cell_type": "markdown",
   "metadata": {},
   "source": [
    "# AI and ML - Homework "
   ]
  },
  {
   "cell_type": "markdown",
   "metadata": {},
   "source": [
    "Things to do:\n",
    "* markdown notes\n",
    "* tests\n",
    "* To demonstrate the performance of your algorithms, you can report training and test errors. These could be plotted as the parameters of the function are varied. accuracies too :D\n"
   ]
  },
  {
   "cell_type": "code",
   "execution_count": 6,
   "metadata": {},
   "outputs": [],
   "source": [
    "# imports\n",
    "import numpy as np\n",
    "import matplotlib.pyplot as plt"
   ]
  },
  {
   "cell_type": "code",
   "execution_count": 15,
   "metadata": {},
   "outputs": [],
   "source": [
    "# Generate training samples\n",
    "N = 10 # Number of training samples\n",
    "# Generate equispaced floats in the interval [0, 2π]\n",
    "x = np.linspace(0, 2*np.pi, N)\n",
    "# Generate noise\n",
    "mean = 0\n",
    "std = 0.05\n",
    "# Generate some numbers from the sine function\n",
    "y = np.sin(x)\n",
    "# Add noise\n",
    "y += np.random.normal(mean, std, N)\n",
    "\n",
    "# put column with ones for bias\n",
    "x_train = np.array([np.ones(N), x])\n",
    "# swap axes changes the above 2xN matrix to Nx2 matrix\n",
    "x_train = np.swapaxes(x_train, 0,1)\n",
    "# print(x_train.shape)"
   ]
  },
  {
   "cell_type": "code",
   "execution_count": 38,
   "metadata": {},
   "outputs": [],
   "source": [
    "# Generate test inputs\n",
    "N_test = 100\n",
    "x_test = np.linspace(0,2*np.pi, N_test)\n",
    "test_mean = 0\n",
    "test_std = 0.05\n",
    "x_test += np.random.normal(test_mean, test_std, N_test)\n",
    "# x_test = np.array([np.ones(N_test), x_test])\n",
    "# x_test = np.swapaxes(x_test, 0,1)\n",
    "# print(x_test.shape)"
   ]
  },
  {
   "cell_type": "markdown",
   "metadata": {},
   "source": [
    "### Vanilla Linear Regression\n",
    "model: y = w1*x + w0"
   ]
  },
  {
   "cell_type": "code",
   "execution_count": 28,
   "metadata": {},
   "outputs": [
    {
     "name": "stdout",
     "output_type": "stream",
     "text": [
      "[ 0.73829739 -0.22379515]\n"
     ]
    }
   ],
   "source": [
    "def get_weights(X, y):\n",
    "    w = np.dot(np.dot(np.linalg.inv(np.dot(np.transpose(X),X)), np.transpose(X)), y)\n",
    "    return w\n",
    "w = get_weights(x_train, y)\n",
    "print(w)"
   ]
  },
  {
   "cell_type": "code",
   "execution_count": 10,
   "metadata": {},
   "outputs": [
    {
     "data": {
      "image/png": "[encoded data removed]",
      "text/plain": [
       "<Figure size 432x288 with 1 Axes>"
      ]
     },
     "metadata": {},
     "output_type": "display_data"
    }
   ],
   "source": [
    "y_predicted = w[0] + w[1]*x_test   # y=mx+c\n",
    "# plotting\n",
    "plt.plot(x,y,'bo')\n",
    "plt.plot(x_test, y_predicted, 'ro')\n",
    "plt.show()"
   ]
  },
  {
   "cell_type": "markdown",
   "metadata": {},
   "source": [
    "###  Linear Regression using polynomial basis Function"
   ]
  },
  {
   "cell_type": "code",
   "execution_count": 51,
   "metadata": {},
   "outputs": [],
   "source": [
    "\n",
    "def Phi(X, _M):\n",
    "    _phi_x = np.ones(len(X))\n",
    "    for i in range(1, _M+1):\n",
    "        _phi_x = np.c_[_phi_x, X**i]\n",
    "    return _phi_x\n"
   ]
  },
  {
   "cell_type": "code",
   "execution_count": 62,
   "metadata": {},
   "outputs": [
    {
     "data": {
      "image/png": "[encoded data removed]",
      "text/plain": [
       "<Figure size 432x288 with 1 Axes>"
      ]
     },
     "metadata": {},
     "output_type": "display_data"
    }
   ],
   "source": [
    "M = 4\n",
    "x_train = Phi(x, M)\n",
    "w1 = get_weights(x_train,y)\n",
    "# print(w1)\n",
    "\n",
    "y_predict = np.dot(Phi(x_test, M), w1)\n",
    "# plotting\n",
    "plt.plot(x,y,'bo')\n",
    "plt.plot(x_test, y_predict, 'ro')\n",
    "plt.show()"
   ]
  },
  {
   "cell_type": "code",
   "execution_count": null,
   "metadata": {},
   "outputs": [],
   "source": []
  },
  {
   "cell_type": "code",
   "execution_count": null,
   "metadata": {},
   "outputs": [],
   "source": []
  }
 ],
 "metadata": {
  "kernelspec": {
   "display_name": "Python 3",
   "language": "python",
   "name": "python3"
  },
  "language_info": {
   "codemirror_mode": {
    "name": "ipython",
    "version": 3
   },
   "file_extension": ".py",
   "mimetype": "text/x-python",
   "name": "python",
   "nbconvert_exporter": "python",
   "pygments_lexer": "ipython3",
   "version": "3.5.2"
  }
 },
 "nbformat": 4,
 "nbformat_minor": 2
}
