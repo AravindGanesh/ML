{
 "cells": [
  {
   "cell_type": "markdown",
   "metadata": {},
   "source": [
    "# Two-class k-Nearest Neighbor Classifier"
   ]
  },
  {
   "cell_type": "code",
   "execution_count": 74,
   "metadata": {},
   "outputs": [],
   "source": [
    "#imports\n",
    "import numpy as np\n",
    "import pandas as pd\n",
    "import matplotlib.pyplot as plt"
   ]
  },
  {
   "cell_type": "code",
   "execution_count": 75,
   "metadata": {},
   "outputs": [
    {
     "name": "stdout",
     "output_type": "stream",
     "text": [
      "(1000, 2)\n"
     ]
    }
   ],
   "source": [
    "# DATASET\n",
    "# Train dataset\n",
    "x = pd.read_csv('X.csv', header=None)\n",
    "x_train = np.asarray(x).T\n",
    "print(x_train.shape)\n",
    "y = pd.read_csv('Y.csv', header=None)\n",
    "y_train = np.asarray(y).flatten()"
   ]
  },
  {
   "cell_type": "code",
   "execution_count": 76,
   "metadata": {},
   "outputs": [],
   "source": [
    "# test data - given\n",
    "test_data = [[1,1], [1,-1], [-1,1], [-1,-1]]\n",
    "x_test = np.asarray(test_data)"
   ]
  },
  {
   "cell_type": "code",
   "execution_count": 77,
   "metadata": {},
   "outputs": [
    {
     "name": "stdout",
     "output_type": "stream",
     "text": [
      "(2, 493) (2, 507)\n"
     ]
    },
    {
     "data": {
      "image/png": "[encoded data removed]",
      "text/plain": [
       "<Figure size 432x288 with 1 Axes>"
      ]
     },
     "metadata": {},
     "output_type": "display_data"
    }
   ],
   "source": [
    "# observing the train data\n",
    "x1, x_1 = [], []\n",
    "for i, label in enumerate(y_train==1):\n",
    "    if label: x1.append(x_train[i])\n",
    "    else: x_1.append(x_train[i])\n",
    "x1 = np.asarray(x1).T\n",
    "x_1 = np.asarray(x_1).T\n",
    "print(x1.shape, x_1.shape)\n",
    "plt.plot(x1[0], x1[1], 'o', x_1[0], x_1[1], '*')\n",
    "plt.legend(['y = 1', 'y = -1'], loc='best')\n",
    "plt.show()"
   ]
  },
  {
   "cell_type": "code",
   "execution_count": 78,
   "metadata": {},
   "outputs": [
    {
     "name": "stdout",
     "output_type": "stream",
     "text": [
      "([1, 1, 2, 3, 4, 5, 6, 7], [1, 2, 0, 7, 4, 3, 5, 6])\n"
     ]
    }
   ],
   "source": [
    "# bubble sort\n",
    "def bubbleSort(A):\n",
    "    _indeces = [idx for idx in range(len(A))]\n",
    "    for i,a in enumerate(A[:-1]):\n",
    "        for j,b in enumerate(A[:-i]):\n",
    "            if A[j]>A[j+1]:\n",
    "                A[j], _indeces[j], A[j+1], _indeces[j+1] = A[j+1], _indeces[j+1], A[j], _indeces[j]\n",
    "    return A, _indeces\n",
    "    \n",
    "print(bubbleSort([2,1,1,5,4,6,7,3]))"
   ]
  },
  {
   "cell_type": "code",
   "execution_count": 88,
   "metadata": {},
   "outputs": [
    {
     "name": "stdout",
     "output_type": "stream",
     "text": [
      "5.0\n"
     ]
    }
   ],
   "source": [
    "# l2 norm function\n",
    "def norm(v):\n",
    "    r = 0\n",
    "    for a in v: r += a**2\n",
    "    return r**0.5\n",
    "\n",
    "print(norm(np.array([3,4])))"
   ]
  },
  {
   "cell_type": "code",
   "execution_count": 97,
   "metadata": {},
   "outputs": [],
   "source": [
    "\"\"\"\n",
    "def knn(_x, _k):\n",
    "    distances = np.array([np.linalg.norm(_x - x_train[i]) for i in range(0,len(x_train))])\n",
    "    nearest_neighbors_y = np.array([y_train[i] for i in np.argsort(distances)[:_k]])\n",
    "    if np.sum(nearest_neighbors_y) >0: y_predict = 1\n",
    "    else: y_predict = -1\n",
    "    return y_predict\n",
    "\"\"\"\n",
    "def knn(_x, _k):\n",
    "    distances = np.array([norm(_x - x_train[i]) for i in range(0,len(x_train))])\n",
    "    _, indices = bubbleSort(distances)\n",
    "    nearest_neighbors_y = np.array([y_train[i] for i in indices[:_k]])\n",
    "    if np.sum(nearest_neighbors_y) >0: y_predict = 1\n",
    "    else: y_predict = -1\n",
    "    return y_predict"
   ]
  },
  {
   "cell_type": "code",
   "execution_count": 84,
   "metadata": {},
   "outputs": [
    {
     "name": "stdout",
     "output_type": "stream",
     "text": [
      "[1, 1, -1, -1]\n"
     ]
    }
   ],
   "source": [
    "k = 1\n",
    "predictions = [knn(test_x, k) for test_x in test_data]\n",
    "print(predictions)"
   ]
  },
  {
   "cell_type": "code",
   "execution_count": 85,
   "metadata": {},
   "outputs": [
    {
     "name": "stdout",
     "output_type": "stream",
     "text": [
      "[1, 1, -1, -1]\n"
     ]
    }
   ],
   "source": [
    "k = 2\n",
    "predictions = [knn(test_x, k) for test_x in test_data]\n",
    "print(predictions)"
   ]
  },
  {
   "cell_type": "code",
   "execution_count": 86,
   "metadata": {},
   "outputs": [
    {
     "name": "stdout",
     "output_type": "stream",
     "text": [
      "[1, 1, -1, -1]\n"
     ]
    }
   ],
   "source": [
    "k = 10\n",
    "predictions = [knn(test_x, k) for test_x in test_data]\n",
    "print(predictions)"
   ]
  },
  {
   "cell_type": "code",
   "execution_count": 89,
   "metadata": {},
   "outputs": [
    {
     "name": "stdout",
     "output_type": "stream",
     "text": [
      "[1, 1, -1, -1]\n"
     ]
    }
   ],
   "source": [
    "k = 50\n",
    "predictions = [knn(test_x, k) for test_x in test_data]\n",
    "print(predictions)"
   ]
  },
  {
   "cell_type": "code",
   "execution_count": 91,
   "metadata": {},
   "outputs": [
    {
     "name": "stdout",
     "output_type": "stream",
     "text": [
      "[1, 1, -1, -1]\n"
     ]
    }
   ],
   "source": [
    "k = 100\n",
    "predictions = [knn(test_x, k) for test_x in test_data]\n",
    "print(predictions)"
   ]
  },
  {
   "cell_type": "code",
   "execution_count": 92,
   "metadata": {},
   "outputs": [
    {
     "name": "stdout",
     "output_type": "stream",
     "text": [
      "[1, 1, -1, -1]\n"
     ]
    }
   ],
   "source": [
    "k = 250\n",
    "predictions = [knn(test_x, k) for test_x in test_data]\n",
    "print(predictions)"
   ]
  },
  {
   "cell_type": "code",
   "execution_count": 93,
   "metadata": {},
   "outputs": [
    {
     "name": "stdout",
     "output_type": "stream",
     "text": [
      "[1, 1, -1, -1]\n"
     ]
    }
   ],
   "source": [
    "k = 500\n",
    "predictions = [knn(test_x, k) for test_x in test_data]\n",
    "print(predictions)"
   ]
  },
  {
   "cell_type": "code",
   "execution_count": 94,
   "metadata": {},
   "outputs": [
    {
     "name": "stdout",
     "output_type": "stream",
     "text": [
      "[1, 1, -1, -1]\n"
     ]
    }
   ],
   "source": [
    "k = 700\n",
    "predictions = [knn(test_x, k) for test_x in test_data]\n",
    "print(predictions)"
   ]
  },
  {
   "cell_type": "code",
   "execution_count": 95,
   "metadata": {},
   "outputs": [
    {
     "name": "stdout",
     "output_type": "stream",
     "text": [
      "[1, 1, -1, -1]\n"
     ]
    }
   ],
   "source": [
    "k = 900\n",
    "predictions = [knn(test_x, k) for test_x in test_data]\n",
    "print(predictions)"
   ]
  },
  {
   "cell_type": "code",
   "execution_count": 96,
   "metadata": {},
   "outputs": [
    {
     "name": "stdout",
     "output_type": "stream",
     "text": [
      "[-1, -1, -1, -1]\n"
     ]
    }
   ],
   "source": [
    "k = 1000\n",
    "predictions = [knn(test_x, k) for test_x in test_data]\n",
    "print(predictions)"
   ]
  }
 ],
 "metadata": {
  "kernelspec": {
   "display_name": "Python 3",
   "language": "python",
   "name": "python3"
  },
  "language_info": {
   "codemirror_mode": {
    "name": "ipython",
    "version": 3
   },
   "file_extension": ".py",
   "mimetype": "text/x-python",
   "name": "python",
   "nbconvert_exporter": "python",
   "pygments_lexer": "ipython3",
   "version": "3.5.2"
  }
 },
 "nbformat": 4,
 "nbformat_minor": 2
}
