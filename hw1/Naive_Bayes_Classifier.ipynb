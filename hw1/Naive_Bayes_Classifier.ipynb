{
 "cells": [
  {
   "cell_type": "markdown",
   "metadata": {},
   "source": [
    "# Two-Class Naive Bayes Classifier "
   ]
  },
  {
   "cell_type": "code",
   "execution_count": 5,
   "metadata": {},
   "outputs": [],
   "source": [
    "#imports\n",
    "import numpy as np\n",
    "import pandas as pd"
   ]
  },
  {
   "cell_type": "code",
   "execution_count": 6,
   "metadata": {},
   "outputs": [
    {
     "name": "stdout",
     "output_type": "stream",
     "text": [
      "(1000, 2)\n"
     ]
    }
   ],
   "source": [
    "# DATASET\n",
    "# Train dataset\n",
    "x = pd.read_csv('X.csv', header=None)\n",
    "x_train = np.asarray(x).T\n",
    "print(x_train.shape)\n",
    "y = pd.read_csv('Y.csv', header=None)\n",
    "y_train = np.asarray(y).flatten()"
   ]
  },
  {
   "cell_type": "code",
   "execution_count": 7,
   "metadata": {},
   "outputs": [],
   "source": [
    "# test data - given\n",
    "test_data = [[1,1], [1,-1], [-1,1], [-1,-1]]\n",
    "x_test = np.asarray(test_data)"
   ]
  },
  {
   "cell_type": "code",
   "execution_count": 14,
   "metadata": {},
   "outputs": [
    {
     "name": "stdout",
     "output_type": "stream",
     "text": [
      "(2, 493) (2, 507)\n"
     ]
    }
   ],
   "source": [
    "# segregating data with labels 1 and -1 respectively\n",
    "x1, x_1 = [], []\n",
    "for i, label in enumerate(y_train==1):\n",
    "    if label: x1.append(x_train[i])\n",
    "    else: x_1.append(x_train[i])\n",
    "x1 = np.asarray(x1).T\n",
    "x_1 = np.asarray(x_1).T\n",
    "x11, x12 = x1[0], x1[1]\n",
    "x_11, x_12 = x_1[0], x_1[1]\n",
    "print(x1.shape, x_1.shape)"
   ]
  },
  {
   "cell_type": "code",
   "execution_count": 53,
   "metadata": {},
   "outputs": [],
   "source": [
    "# parameters\n",
    "P_y1 = np.count_nonzero(y==1)/len(y)   # P[y=1] = number of y=1 labels / total number of labels\n",
    "P_y_1 = np.count_nonzero(y==-1)/len(y) # P[y=-1] = number of y=-1 labels / total number of labels\n",
    "mean11, var11 = np.mean(x11), np.std(x11)**2    # mean and var of first dimension of data with class 1 \n",
    "mean12, var12 = np.mean(x12), np.std(x12)**2    # mean and var of second dimension of data with class 1 \n",
    "mean_11, var_11 = np.mean(x_11), np.std(x_11)**2  # mean and var of first dimension of data with class -1 \n",
    "mean_12, var_12 = np.mean(x_12), np.std(x_12)**2  # mean and var of second dimension of data with class -1 \n",
    "parameters = [(mean11, var11), (mean12, var12), (mean_11, var_11), (mean_12, var_12)]"
   ]
  },
  {
   "cell_type": "code",
   "execution_count": 54,
   "metadata": {},
   "outputs": [],
   "source": [
    "def pdf(x, _param):\n",
    "    mean, sd = _param\n",
    "    px = (np.exp(-((x-mean)**2)/(sd**2))) / (sd*np.sqrt(2*np.pi))\n",
    "    return px"
   ]
  },
  {
   "cell_type": "code",
   "execution_count": 69,
   "metadata": {},
   "outputs": [],
   "source": [
    "def prediction(x):\n",
    "    probs = [pdf(x[0], parameters[0])*pdf(x[1], parameters[1])*P_y1,\n",
    "             pdf(x[0], parameters[2])*pdf(x[1], parameters[3])*P_y_1]\n",
    "    if probs[0]>probs[1]: return 1\n",
    "    else: return -1"
   ]
  },
  {
   "cell_type": "code",
   "execution_count": 71,
   "metadata": {},
   "outputs": [
    {
     "name": "stdout",
     "output_type": "stream",
     "text": [
      "[1, 1, -1, -1]\n"
     ]
    }
   ],
   "source": [
    "estimates = [prediction(x) for x in test_data]\n",
    "print(estimates)"
   ]
  }
 ],
 "metadata": {
  "kernelspec": {
   "display_name": "Python 3",
   "language": "python",
   "name": "python3"
  },
  "language_info": {
   "codemirror_mode": {
    "name": "ipython",
    "version": 3
   },
   "file_extension": ".py",
   "mimetype": "text/x-python",
   "name": "python",
   "nbconvert_exporter": "python",
   "pygments_lexer": "ipython3",
   "version": "3.5.2"
  }
 },
 "nbformat": 4,
 "nbformat_minor": 2
}
