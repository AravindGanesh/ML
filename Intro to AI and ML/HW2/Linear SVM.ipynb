{
 "cells": [
  {
   "cell_type": "markdown",
   "metadata": {},
   "source": [
    "# Linear Support Vector Machine "
   ]
  },
  {
   "cell_type": "code",
   "execution_count": 2,
   "metadata": {},
   "outputs": [],
   "source": [
    "#imports\n",
    "import pandas as pd\n",
    "import numpy as np\n",
    "import matplotlib.pyplot as plt\n",
    "import cvxpy as cp"
   ]
  },
  {
   "cell_type": "code",
   "execution_count": 3,
   "metadata": {},
   "outputs": [
    {
     "name": "stdout",
     "output_type": "stream",
     "text": [
      "(500, 2)\n"
     ]
    }
   ],
   "source": [
    "# Train dataset\n",
    "X = pd.read_csv('Xsvm.csv', header=None)\n",
    "y = pd.read_csv('ysvm.csv', header=None)\n",
    "x_train = np.asarray(X)\n",
    "y_train = np.asarray(y).flatten()\n",
    "x_train.shape, y_train.shape\n",
    "N = len(x_train) #500\n",
    "print(x_train.shape)"
   ]
  },
  {
   "cell_type": "code",
   "execution_count": 52,
   "metadata": {},
   "outputs": [],
   "source": [
    "# test data\n",
    "x_test = np.array([[2,0.5],\n",
    "                   [0.8,0.7],\n",
    "                   [1.58,1.33],\n",
    "                   [0.008,0.001]])"
   ]
  },
  {
   "cell_type": "markdown",
   "metadata": {},
   "source": [
    "##### Observing the training dataset. \n",
    "We are given 2-D vectors with labels belonging to two classes y = 1 and y = -1. Plotting these 2-D vectors in a 2-D plane. \n",
    "* <span style=\"color:#FF0000\">*Red* : y = 1</span>\n",
    "* <span style=\"color:#9400D3\">*Violet* : y = -1 </span>"
   ]
  },
  {
   "cell_type": "code",
   "execution_count": null,
   "metadata": {},
   "outputs": [],
   "source": [
    "plt.scatter(x_train[:,0], x_train[:,1], s=15, c=y_train, cmap=plt.cm.rainbow)\n",
    "plt.show()"
   ]
  },
  {
   "cell_type": "code",
   "execution_count": 19,
   "metadata": {},
   "outputs": [
    {
     "name": "stdout",
     "output_type": "stream",
     "text": [
      "\n",
      "ECOS 2.0.4 - (C) embotech GmbH, Zurich Switzerland, 2012-15. Web: www.embotech.com/ECOS\n",
      "\n",
      "It     pcost       dcost      gap   pres   dres    k/t    mu     step   sigma     IR    |   BT\n",
      " 0  +0.000e+00  -1.047e+00  +2e+03  1e+00  8e-01  1e+00  3e+00    ---    ---    1  1  - |  -  - \n",
      " 1  -7.040e+02  -2.216e+02  +1e+03  8e+01  6e+01  6e+02  2e+00  0.4946  4e-01   1  2  2 |  0  0\n",
      " 2  -2.717e+01  -2.927e+00  +8e+02  6e-01  4e-01  3e+01  2e+00  0.9890  7e-01   2  2  2 |  0  0\n",
      " 3  -4.351e+01  -7.816e+00  +4e+02  5e-01  3e-01  4e+01  8e-01  0.6145  2e-01   2  2  2 |  0  0\n",
      " 4  -7.101e+01  -3.516e+01  +2e+02  1e+00  3e-01  4e+01  4e-01  0.8705  4e-01   2  1  1 |  0  0\n",
      " 5  -2.276e+01  -2.158e+01  +2e+02  9e-02  2e-01  2e+00  3e-01  0.5327  7e-01   2  2  1 |  0  0\n",
      " 6  -6.649e+01  -6.505e+01  +5e+01  6e-02  7e-02  2e+00  1e-01  0.9890  3e-01   2  1  1 |  0  0\n",
      " 7  -6.052e+01  -6.015e+01  +1e+01  1e-02  1e-02  4e-01  2e-02  0.8228  4e-02   3  1  1 |  0  0\n",
      " 8  -6.507e+01  -6.494e+01  +5e+00  3e-03  7e-03  1e-01  9e-03  0.7846  3e-01   1  1  1 |  0  0\n",
      " 9  -6.874e+01  -6.872e+01  +7e-01  5e-04  1e-03  2e-02  1e-03  0.8763  2e-02   1  1  1 |  0  0\n",
      "10  -6.912e+01  -6.911e+01  +3e-01  2e-04  4e-04  8e-03  6e-04  0.7740  3e-01   1  1  1 |  0  0\n",
      "11  -6.942e+01  -6.942e+01  +1e-02  9e-06  2e-05  4e-04  3e-05  0.9535  2e-04   2  1  1 |  0  0\n",
      "12  -6.944e+01  -6.944e+01  +1e-03  9e-07  2e-06  3e-05  3e-06  0.9890  9e-02   1  2  2 |  0  0\n",
      "13  -6.944e+01  -6.944e+01  +6e-05  4e-08  9e-08  1e-06  1e-07  0.9576  1e-04   1  2  2 |  0  0\n",
      "14  -6.944e+01  -6.944e+01  +3e-06  2e-09  5e-09  8e-08  7e-09  0.9668  3e-02   2  2  2 |  0  0\n",
      "15  -6.944e+01  -6.944e+01  +6e-08  5e-10  8e-11  1e-09  1e-10  0.9837  2e-04   2  2  2 |  0  0\n",
      "\n",
      "OPTIMAL (within feastol=5.1e-10, reltol=8.0e-10, abstol=5.6e-08).\n",
      "Runtime: 0.003357 seconds.\n",
      "\n"
     ]
    },
    {
     "data": {
      "text/plain": [
       "69.4370298544791"
      ]
     },
     "execution_count": 19,
     "metadata": {},
     "output_type": "execute_result"
    }
   ],
   "source": [
    "alpha = cp.Variable(N)\n",
    "sum1 = cp.sum(alpha) # first term in Ld\n",
    "\n",
    "# sum2 = 0.5*np.sum(alpha*y_train*np.array([np.sum(alpha*y_train*np.dot(x_train,x),axis=0) for x in x_train]))\n",
    "# CVXPY does not accept this summation, so let's use CVXPY matmul function\n",
    "\n",
    "sum2 = 0.5 * cp.norm(cp.matmul(cp.matmul(cp.diag(alpha), y_train).T, x_train))**2\n",
    "# we set up the loss function in terms of alphas and perform convex optimization with constraints on alpha\n",
    "Ld = sum1 - sum2\n",
    "goal = cp.Maximize(Ld)\n",
    "constraints = [alpha >= 0, cp.matmul(alpha.T, y_train) == 0]\n",
    "problem = cp.Problem(goal, constraints)\n",
    "problem.solve(verbose=True)"
   ]
  },
  {
   "cell_type": "code",
   "execution_count": 47,
   "metadata": {},
   "outputs": [
    {
     "name": "stdout",
     "output_type": "stream",
     "text": [
      "[-0.11843836 11.78388371]\n"
     ]
    }
   ],
   "source": [
    "# calculate weights from given alphas\n",
    "Alpha = np.asarray(alpha.value)\n",
    "weights = np.sum(Alpha*y_train*x_train.T, axis=1)\n",
    "print(weights)"
   ]
  },
  {
   "cell_type": "code",
   "execution_count": 49,
   "metadata": {},
   "outputs": [],
   "source": [
    "# KKT condition\n",
    "i_max = np.argmax(Alpha) # max alpha index\n",
    "# calculate bias\n",
    "w0 = (1/y_train[i_max]) - np.dot(weights, x_train[i_max]) "
   ]
  },
  {
   "cell_type": "code",
   "execution_count": 51,
   "metadata": {},
   "outputs": [],
   "source": [
    "def prediction(_x):\n",
    "    prob = np.dot(weights, _x) + w0\n",
    "    return np.sign(prob)"
   ]
  },
  {
   "cell_type": "code",
   "execution_count": 55,
   "metadata": {},
   "outputs": [
    {
     "name": "stdout",
     "output_type": "stream",
     "text": [
      "[1.0, 1.0, 1.0, 1.0]\n"
     ]
    }
   ],
   "source": [
    "results = [prediction(x) for x in x_test]\n",
    "print(results)"
   ]
  }
 ],
 "metadata": {
  "kernelspec": {
   "display_name": "Python 3",
   "language": "python",
   "name": "python3"
  },
  "language_info": {
   "codemirror_mode": {
    "name": "ipython",
    "version": 3
   },
   "file_extension": ".py",
   "mimetype": "text/x-python",
   "name": "python",
   "nbconvert_exporter": "python",
   "pygments_lexer": "ipython3",
   "version": "3.5.2"
  }
 },
 "nbformat": 4,
 "nbformat_minor": 2
}
